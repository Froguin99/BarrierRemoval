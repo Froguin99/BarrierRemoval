{
 "cells": [
  {
   "cell_type": "code",
   "execution_count": 1,
   "metadata": {},
   "outputs": [],
   "source": [
    "# import packages\n",
    "import geopandas as gpd\n",
    "import osmnx as ox\n",
    "import momepy\n",
    "import pandana as pdna\n",
    "import pandas as pd\n",
    "import numpy as np\n",
    "import networkx as nx\n",
    "\n",
    "from scipy.spatial import cKDTree\n",
    "from shapely.geometry import Point\n",
    "\n",
    "from shapely.geometry import box"
   ]
  },
  {
   "cell_type": "code",
   "execution_count": 2,
   "metadata": {},
   "outputs": [
    {
     "name": "stderr",
     "output_type": "stream",
     "text": [
      "c:\\Users\\b8008458\\Anaconda3\\envs\\ox\\lib\\site-packages\\osmnx\\geometries.py:805: ShapelyDeprecationWarning: __len__ for multi-part geometries is deprecated and will be removed in Shapely 2.0. Check the length of the `geoms` property instead to get the  number of parts of a multi-part geometry.\n",
      "  for merged_outer_linestring in list(merged_outer_linestrings):\n",
      "c:\\Users\\b8008458\\Anaconda3\\envs\\ox\\lib\\site-packages\\osmnx\\geometries.py:805: ShapelyDeprecationWarning: Iteration over multi-part geometries is deprecated and will be removed in Shapely 2.0. Use the `geoms` property to access the constituent parts of a multi-part geometry.\n",
      "  for merged_outer_linestring in list(merged_outer_linestrings):\n"
     ]
    }
   ],
   "source": [
    "## load data\n",
    "\n",
    "# load geopackages\n",
    "lsoas = gpd.read_file(r'C:\\Users\\b8008458\\Documents\\2021_2022\\Scratch Space\\York\\Centriods\\YorkLSOAsSinglePartGPKG.gpkg')\n",
    "\n",
    "\n",
    "# get location\n",
    "place = \"York, United Kingdom\"\n",
    "walk_dist = 1200 # distance to be walked\n",
    "no_pois = 700 # max number of points to look for\n",
    "type = 'walk'  # network type to get. walk, bike, all or drive\n",
    "\n",
    "cities = ox.geocode_to_gdf([place])\n",
    "\n",
    "# get all amenities for a given study area\n",
    "\n",
    "tags = {\"amenity\": [\"bar\",\"cafe\",\"pub\",\"restaurant\",\n",
    "                    \"college\",\"kindergarten\",\"library\",\"school\",\"university\", \"childcare\",\n",
    "                    ,\"bicycle_parking\",\"bicycle_repair_station\",\"bicycle_rental\",\"bus_station\",\"ferry_terminal\",\n",
    "                    \"taxi\",\"atm\",\"bank\",\"bureau_de_change\",\n",
    "                    \"clinic\",\"dentist\",\"doctors\",\"hospital\",\"pharmacy\",\"social_facility\",\"veterinary\"\n",
    "                    ,\"arts_centre\",\"cinema\",\"community_centre\",\"public_bookcase\", \"kitchen\",\n",
    "                    \"social_centre\", \"theatre\", \"marketplace\", \"place_of_worship\",\n",
    "                    \"police\", \"fire_station\",\"post_box\", \"post_depot\", \"post_office\", \"townhall\",\n",
    "                    \"drinking_water\",\"toilets\",\"water_point\", \"parcel_locker\", \"shower\", \"telephone\",\n",
    "                    \"recycling\"]}\n",
    "\n",
    "pois = ox.geometries_from_place(place, tags)\n",
    "\n",
    "# load streets from OSM\n",
    "walk_graph = ox.graph_from_place(place, network_type = type) # download walking network\n",
    "\n",
    "# get some barriers\n",
    "barriers = gpd.read_file(r\"C:\\Users\\b8008458\\Documents\\2021_2022\\Scratch Space\\York\\Barriers\\YorkBarriers.shp\")\n"
   ]
  },
  {
   "cell_type": "code",
   "execution_count": 3,
   "metadata": {},
   "outputs": [],
   "source": [
    "## clean data\n",
    "\n",
    "# streets\n",
    "walk_graph = ox.get_undirected(walk_graph) # cleans the network keeping parallel edges only if geometry is different\n",
    "walk_graph = ox.projection.project_graph(walk_graph) # project graph\n",
    "walk_streets = ox.graph_to_gdfs(walk_graph, nodes=False, edges=True, node_geometry=False, fill_edge_geometry=True) # convert graph to gdf\n",
    "walk_streets = walk_streets[[\"geometry\", \"from\", \"to\", \"length\"]] # clean columns\n",
    "walk_streets = walk_streets.to_crs(27700) # set crs"
   ]
  },
  {
   "cell_type": "code",
   "execution_count": 4,
   "metadata": {},
   "outputs": [
    {
     "name": "stderr",
     "output_type": "stream",
     "text": [
      "C:\\Users\\b8008458\\AppData\\Local\\Temp\\ipykernel_24216\\2443919015.py:2: FutureWarning: Currently, index_parts defaults to True, but in the future, it will default to False to be consistent with Pandas. Use `index_parts=True` to keep the current behavior and True/False to silence the warning.\n",
      "  lsoas = lsoas.reset_index(drop=True).explode().reset_index(drop=True) # clean\n"
     ]
    }
   ],
   "source": [
    "# lsoas\n",
    "lsoas = lsoas.reset_index(drop=True).explode().reset_index(drop=True) # clean\n",
    "lsoas['lsoaID'] = range(0,len(lsoas)) # generate index column\n",
    "lsoas = lsoas.set_index('lsoaID') # set index\n",
    "lsoas = lsoas.to_crs(27700) # set crs"
   ]
  },
  {
   "cell_type": "code",
   "execution_count": 5,
   "metadata": {},
   "outputs": [
    {
     "name": "stderr",
     "output_type": "stream",
     "text": [
      "C:\\Users\\b8008458\\AppData\\Local\\Temp\\ipykernel_24216\\598720326.py:3: FutureWarning: Currently, index_parts defaults to True, but in the future, it will default to False to be consistent with Pandas. Use `index_parts=True` to keep the current behavior and True/False to silence the warning.\n",
      "  pois = pois.reset_index(drop=True).explode().reset_index(drop=True) # avoid multipart pois\n",
      "C:\\Users\\b8008458\\AppData\\Local\\Temp\\ipykernel_24216\\598720326.py:8: UserWarning: Geometry is in a geographic CRS. Results from 'centroid' are likely incorrect. Use 'GeoSeries.to_crs()' to re-project geometries to a projected CRS before this operation.\n",
      "\n",
      "  pois['geometry'] = pois.centroid\n"
     ]
    }
   ],
   "source": [
    "# pois\n",
    "\n",
    "pois = pois.reset_index(drop=True).explode().reset_index(drop=True) # avoid multipart pois\n",
    "pois['poiID'] = range(0,len(pois))\n",
    "pois = pois.set_index('poiID')\n",
    "\n",
    "# convert polygons to points\n",
    "pois['geometry'] = pois.centroid\n",
    "\n",
    "# clean columns\n",
    "pois = pois[['geometry','amenity']]\n",
    "pois = pois.to_crs(27700) # set crs"
   ]
  },
  {
   "cell_type": "code",
   "execution_count": 6,
   "metadata": {},
   "outputs": [
    {
     "name": "stderr",
     "output_type": "stream",
     "text": [
      "C:\\Users\\b8008458\\AppData\\Local\\Temp\\ipykernel_24216\\1581756382.py:5: FutureWarning: Currently, index_parts defaults to True, but in the future, it will default to False to be consistent with Pandas. Use `index_parts=True` to keep the current behavior and True/False to silence the warning.\n",
      "  walk_streets.explode() # remove multipart rows\n"
     ]
    }
   ],
   "source": [
    "## generate pandana network\n",
    "# nodes and edges for walk network\n",
    "nodes_walk, edges_walk = momepy.nx_to_gdf( # convert network to gdf\n",
    "    momepy.gdf_to_nx( # convert to nx graph\n",
    "        walk_streets.explode() # remove multipart rows\n",
    "    )\n",
    ")\n",
    "nodes_walk = nodes_walk.set_index('nodeID') # set index\n",
    "\n",
    "# generate walk pandana network\n",
    "walk_streets_pdna = pdna.Network( \n",
    "    nodes_walk.geometry.x,\n",
    "    nodes_walk.geometry.y,\n",
    "    edges_walk['node_start'], # set origins\n",
    "    edges_walk['node_end'], # set destinations\n",
    "    edges_walk[['mm_len']] # set edge length\n",
    ")"
   ]
  },
  {
   "cell_type": "code",
   "execution_count": 7,
   "metadata": {},
   "outputs": [
    {
     "name": "stderr",
     "output_type": "stream",
     "text": [
      "c:\\Users\\b8008458\\Anaconda3\\envs\\ox\\lib\\site-packages\\pandana\\network.py:660: FutureWarning: The default dtype for empty Series will be 'object' instead of 'float64' in a future version. Specify a dtype explicitly to silence this warning.\n",
      "  elif isinstance(maxitems, type(pd.Series())):\n",
      "c:\\Users\\b8008458\\Anaconda3\\envs\\ox\\lib\\site-packages\\pandana\\network.py:668: FutureWarning: The default dtype for empty Series will be 'object' instead of 'float64' in a future version. Specify a dtype explicitly to silence this warning.\n",
      "  elif isinstance(maxdist, type(pd.Series())):\n"
     ]
    }
   ],
   "source": [
    "# attach pois to the network\n",
    "walk_streets_pdna.set_pois( # snap pois to network\n",
    "    category = 'pois', # set name of the new layer snapped on the network\n",
    "    maxdist = walk_dist, # set maximum distance\n",
    "    maxitems = no_pois, # set maximum number of pois to look for\n",
    "    x_col = pois.geometry.x,\n",
    "    y_col = pois.geometry.y\n",
    ")\n",
    "results = walk_streets_pdna.nearest_pois( # calculate distances to pois\n",
    "    distance = walk_dist, # maximum distance\n",
    "    category = 'pois', # layer where we want to look for\n",
    "    num_pois = no_pois, # max number of pois to look for\n",
    "    include_poi_ids = True # include pois ids\n",
    ")"
   ]
  },
  {
   "cell_type": "code",
   "execution_count": 8,
   "metadata": {},
   "outputs": [],
   "source": [
    "# store results separately as distances and poiIDs\n",
    "\n",
    "# separate distances from poi ids\n",
    "distances = results.iloc[:,:round(len(results.columns)/2,)] # create df with distances\n",
    "pois_ids = results.iloc[:,round(len(results.columns)/2,):] # create df with pois ids\n",
    "\n",
    "# convert wide matrices to long\n",
    "distances_long = pd.melt(distances.reset_index(), id_vars='nodeID',value_name='distance') # make matrix long\n",
    "pois_ids_long = pd.melt(pois_ids.reset_index(), id_vars='nodeID',value_name='poiID') # make matrix long\n",
    "\n",
    "# create an od long df containing nodeID, distance, and poiID\n",
    "od = distances_long\n",
    "od['poiID'] = pois_ids_long['poiID'].astype('Int64') # set a column with pois ids (as they are indexed, they are already in the right order)\n",
    "\n",
    "# format od matrix and drop NAs\n",
    "od = od[['nodeID','poiID','distance']] # clean columns\n",
    "od = od.dropna() # drop NAs"
   ]
  },
  {
   "cell_type": "code",
   "execution_count": 9,
   "metadata": {},
   "outputs": [],
   "source": [
    "# merge od data with POIs data\n",
    "pois = pois.reset_index() # reset index pois df\n"
   ]
  },
  {
   "cell_type": "code",
   "execution_count": 10,
   "metadata": {},
   "outputs": [],
   "source": [
    "od_pois_info = pd.merge(od, pois[['amenity','poiID']].reset_index(), left_on='poiID', right_on='poiID') # merge pois info to od matrix"
   ]
  },
  {
   "cell_type": "code",
   "execution_count": 11,
   "metadata": {},
   "outputs": [
    {
     "data": {
      "text/html": [
       "<div>\n",
       "<style scoped>\n",
       "    .dataframe tbody tr th:only-of-type {\n",
       "        vertical-align: middle;\n",
       "    }\n",
       "\n",
       "    .dataframe tbody tr th {\n",
       "        vertical-align: top;\n",
       "    }\n",
       "\n",
       "    .dataframe thead th {\n",
       "        text-align: right;\n",
       "    }\n",
       "</style>\n",
       "<table border=\"1\" class=\"dataframe\">\n",
       "  <thead>\n",
       "    <tr style=\"text-align: right;\">\n",
       "      <th></th>\n",
       "      <th>nodeID</th>\n",
       "      <th>poiID</th>\n",
       "      <th>distance</th>\n",
       "      <th>index</th>\n",
       "      <th>amenity</th>\n",
       "    </tr>\n",
       "  </thead>\n",
       "  <tbody>\n",
       "    <tr>\n",
       "      <th>0</th>\n",
       "      <td>1</td>\n",
       "      <td>770</td>\n",
       "      <td>617.469971</td>\n",
       "      <td>770</td>\n",
       "      <td>bicycle_parking</td>\n",
       "    </tr>\n",
       "    <tr>\n",
       "      <th>1</th>\n",
       "      <td>2</td>\n",
       "      <td>770</td>\n",
       "      <td>624.268982</td>\n",
       "      <td>770</td>\n",
       "      <td>bicycle_parking</td>\n",
       "    </tr>\n",
       "    <tr>\n",
       "      <th>2</th>\n",
       "      <td>3</td>\n",
       "      <td>770</td>\n",
       "      <td>699.742981</td>\n",
       "      <td>770</td>\n",
       "      <td>bicycle_parking</td>\n",
       "    </tr>\n",
       "    <tr>\n",
       "      <th>3</th>\n",
       "      <td>4</td>\n",
       "      <td>770</td>\n",
       "      <td>677.161011</td>\n",
       "      <td>770</td>\n",
       "      <td>bicycle_parking</td>\n",
       "    </tr>\n",
       "    <tr>\n",
       "      <th>4</th>\n",
       "      <td>6</td>\n",
       "      <td>770</td>\n",
       "      <td>590.724976</td>\n",
       "      <td>770</td>\n",
       "      <td>bicycle_parking</td>\n",
       "    </tr>\n",
       "    <tr>\n",
       "      <th>...</th>\n",
       "      <td>...</td>\n",
       "      <td>...</td>\n",
       "      <td>...</td>\n",
       "      <td>...</td>\n",
       "      <td>...</td>\n",
       "    </tr>\n",
       "    <tr>\n",
       "      <th>2380310</th>\n",
       "      <td>22312</td>\n",
       "      <td>1282</td>\n",
       "      <td>473.149994</td>\n",
       "      <td>1282</td>\n",
       "      <td>restaurant</td>\n",
       "    </tr>\n",
       "    <tr>\n",
       "      <th>2380311</th>\n",
       "      <td>22313</td>\n",
       "      <td>1282</td>\n",
       "      <td>403.635010</td>\n",
       "      <td>1282</td>\n",
       "      <td>restaurant</td>\n",
       "    </tr>\n",
       "    <tr>\n",
       "      <th>2380312</th>\n",
       "      <td>22315</td>\n",
       "      <td>1282</td>\n",
       "      <td>388.140015</td>\n",
       "      <td>1282</td>\n",
       "      <td>restaurant</td>\n",
       "    </tr>\n",
       "    <tr>\n",
       "      <th>2380313</th>\n",
       "      <td>134</td>\n",
       "      <td>1282</td>\n",
       "      <td>1167.176025</td>\n",
       "      <td>1282</td>\n",
       "      <td>restaurant</td>\n",
       "    </tr>\n",
       "    <tr>\n",
       "      <th>2380314</th>\n",
       "      <td>680</td>\n",
       "      <td>1282</td>\n",
       "      <td>1185.172974</td>\n",
       "      <td>1282</td>\n",
       "      <td>restaurant</td>\n",
       "    </tr>\n",
       "  </tbody>\n",
       "</table>\n",
       "<p>2380315 rows × 5 columns</p>\n",
       "</div>"
      ],
      "text/plain": [
       "         nodeID  poiID     distance  index          amenity\n",
       "0             1    770   617.469971    770  bicycle_parking\n",
       "1             2    770   624.268982    770  bicycle_parking\n",
       "2             3    770   699.742981    770  bicycle_parking\n",
       "3             4    770   677.161011    770  bicycle_parking\n",
       "4             6    770   590.724976    770  bicycle_parking\n",
       "...         ...    ...          ...    ...              ...\n",
       "2380310   22312   1282   473.149994   1282       restaurant\n",
       "2380311   22313   1282   403.635010   1282       restaurant\n",
       "2380312   22315   1282   388.140015   1282       restaurant\n",
       "2380313     134   1282  1167.176025   1282       restaurant\n",
       "2380314     680   1282  1185.172974   1282       restaurant\n",
       "\n",
       "[2380315 rows x 5 columns]"
      ]
     },
     "execution_count": 11,
     "metadata": {},
     "output_type": "execute_result"
    }
   ],
   "source": [
    "od_pois_info"
   ]
  },
  {
   "cell_type": "code",
   "execution_count": 12,
   "metadata": {},
   "outputs": [],
   "source": [
    "# add lsoa information to the od_pois_info \n",
    "lsoa_nodes = walk_streets_pdna.get_node_ids( # get nearest street nodes to each postcode\n",
    "    lsoas.geometry.x,\n",
    "    lsoas.geometry.y\n",
    ")\n",
    "lsoa_nodes = gpd.GeoDataFrame(lsoa_nodes).reset_index() # reset index\n",
    "lsoa_nodes = lsoa_nodes.rename(columns={'node_id':'nodeID'}) # change col names\n",
    "\n"
   ]
  },
  {
   "cell_type": "code",
   "execution_count": 13,
   "metadata": {},
   "outputs": [],
   "source": [
    "# get lsoa geometries\n",
    "lsoa_nodes = lsoa_nodes.merge(lsoas, on='lsoaID', how='left', suffixes=('','_y'))\n",
    "lsoa_nodes.drop(lsoa_nodes.filter(regex='_y$').columns, axis =1, inplace=True)\n",
    "lsoa_nodes = lsoa_nodes[['lsoaID','nodeID','geometry']]"
   ]
  },
  {
   "cell_type": "code",
   "execution_count": 14,
   "metadata": {},
   "outputs": [],
   "source": [
    "# add lsoas to od_pois_info\n",
    "od_pois_info = pd.merge(od_pois_info, lsoa_nodes, left_on='nodeID', right_on='nodeID') # add lsoa to od matrix\n",
    "\n",
    "# to csv file \n",
    "od_pois_info.to_csv(r'C:\\Users\\b8008458\\Documents\\2021_2022\\Scratch Space\\od_pois_info.csv', index=False)"
   ]
  },
  {
   "cell_type": "code",
   "execution_count": 15,
   "metadata": {},
   "outputs": [],
   "source": [
    "# save to geospatail format\n",
    "od_pois_info = gpd.GeoDataFrame(od_pois_info, geometry = 'geometry')\n",
    "od_pois_info.to_file(r'C:\\Users\\b8008458\\Documents\\2021_2022\\Scratch Space\\od_pois_info.shp', index=False)"
   ]
  },
  {
   "cell_type": "code",
   "execution_count": 16,
   "metadata": {},
   "outputs": [],
   "source": [
    "# count the number of aminites accessable from a given lsoa\n",
    "lsoa_level_accessablity = od_pois_info.groupby(\"lsoaID\").size()"
   ]
  },
  {
   "cell_type": "code",
   "execution_count": 17,
   "metadata": {},
   "outputs": [],
   "source": [
    "# convert to dataframe\n",
    "lsoa_level_accessablity = pd.DataFrame(lsoa_level_accessablity)\n",
    "\n",
    "# merge with orignal lsoa file\n",
    "lsoas = lsoas.merge(lsoa_level_accessablity, on='lsoaID', how='left', suffixes=('','_y'))\n",
    "lsoas.drop(lsoas.filter(regex='_y$').columns, axis =1, inplace=True)\n",
    "lsoas.rename(columns = {0:'amenity count'}, inplace = True)"
   ]
  },
  {
   "cell_type": "code",
   "execution_count": 18,
   "metadata": {},
   "outputs": [],
   "source": [
    "# output to file\n",
    "lsoas.to_file(r\"C:\\Users\\b8008458\\Documents\\2021_2022\\Scratch Space\\YorkLSOASTEST.gpkg\")"
   ]
  },
  {
   "cell_type": "markdown",
   "metadata": {},
   "source": [
    "Now repeat process with a broken network"
   ]
  },
  {
   "cell_type": "code",
   "execution_count": 19,
   "metadata": {},
   "outputs": [
    {
     "name": "stdout",
     "output_type": "stream",
     "text": [
      "POINT (-1.083041216634224 53.94557926654369)\n",
      "POINT (-1.0739283 53.9441324)\n",
      "POINT (-1.0739283 53.9441324)\n",
      "POINT (-1.0739283 53.9441324)\n",
      "POINT (-1.0797802 53.9450607)\n",
      "POINT (-1.0738031 53.9451816)\n",
      "POINT (-1.0732171 53.9470538)\n",
      "POINT (-1.066155850653157 53.946130392666426)\n",
      "POINT (-1.059554666188326 53.947470729338484)\n",
      "POINT (-1.058435955680703 53.949930480875096)\n",
      "POINT (-1.0534923043921502 53.94992674753619)\n",
      "POINT (-1.048532460812328 53.94932347191377)\n",
      "POINT (-1.0470913631995158 53.95011685417154)\n",
      "POINT (-1.0449237655577528 53.950045630109955)\n",
      "POINT (-1.045820272112785 53.95360492149316)\n",
      "POINT (-1.0506803074754514 53.95973791439855)\n",
      "POINT (-1.04955 53.96077)\n",
      "POINT (-1.0458818 53.9593264)\n",
      "POINT (-1.043527672911762 53.960495085014195)\n",
      "POINT (-1.0383203937939562 53.96134269184238)\n",
      "POINT (-1.057353891483021 53.95972082289049)\n",
      "POINT (-1.0389224 54.0334809)\n",
      "POINT (-1.060401967477918 53.9596528574473)\n",
      "POINT (-1.0647184 53.9609276)\n",
      "POINT (-1.0684667 53.9595748)\n",
      "POINT (-1.073285871801579 53.958339398722046)\n",
      "POINT (-1.0736007 53.9586162)\n",
      "POINT (-1.0745629463065296 53.95953945498313)\n",
      "POINT (-1.0748373930583177 53.95960484420317)\n",
      "POINT (-1.0760068035773636 53.96001177446307)\n",
      "POINT (-1.0777518468235514 53.961460793883695)\n",
      "POINT (-1.0815934960859066 53.96174724351599)\n",
      "POINT (-1.083463493350046 53.96191295121698)\n",
      "POINT (-1.0851536409363065 53.96277273648876)\n",
      "POINT (-1.0914121 53.9636094)\n",
      "POINT (-1.0919945 53.9619963)\n",
      "POINT (-1.0923214 53.9614277)\n"
     ]
    },
    {
     "name": "stderr",
     "output_type": "stream",
     "text": [
      "c:\\Users\\b8008458\\Anaconda3\\envs\\ox\\lib\\site-packages\\pandas\\core\\dtypes\\cast.py:122: ShapelyDeprecationWarning: The array interface is deprecated and will no longer work in Shapely 2.0. Convert the '.coords' to a numpy array instead.\n",
      "  arr = construct_1d_object_array_from_listlike(values)\n",
      "C:\\Users\\b8008458\\AppData\\Local\\Temp\\ipykernel_24216\\645428067.py:10: UserWarning: Geometry is in a geographic CRS. Results from 'buffer' are likely incorrect. Use 'GeoSeries.to_crs()' to re-project geometries to a projected CRS before this operation.\n",
      "\n",
      "  buffer = result.geometry.buffer(0.00001) # create tiny buffer around points\n"
     ]
    }
   ],
   "source": [
    "# create a network with edges with barriers on removed to simulate not being able to pass through a barrier\n",
    "G = ox.graph_from_place(place, simplify=True, network_type=type)\n",
    "G_edges = ox.graph_to_gdfs(ox.get_undirected(G), nodes=False, edges=True, node_geometry=False, fill_edge_geometry=True)\n",
    "G_nodes = ox.graph_to_gdfs(ox.get_undirected(G), nodes=True, edges=False, node_geometry=True, fill_edge_geometry=False)\n",
    "shply_line = G_edges.geometry.unary_union \n",
    "point = barriers.to_crs(G_edges.crs)\n",
    "for i in range(len(point)):\n",
    "    print(shply_line.interpolate(shply_line.project( point.geometry[i])).wkt) # snap points to line\n",
    "result = point.copy()\n",
    "result['geometry'] = result.apply(lambda row: shply_line.interpolate(shply_line.project( row.geometry)), axis=1)\n",
    "buffer = result.geometry.buffer(0.00001) # create tiny buffer around points\n",
    "broken_network = G_edges.intersects(buffer.unary_union)\n",
    "broken_network = pd.DataFrame(broken_network)\n",
    "broken_network.rename(columns = {0:'Clipped'}, inplace = True) # clip network\n",
    "broken_network = pd.concat([broken_network,G_edges],axis=1)\n",
    "# drop intersected lines\n",
    "broken_network.drop(broken_network[broken_network['Clipped'] == True].index, inplace=True)\n",
    "broken_network = broken_network[['geometry','to','from']]\n",
    "broken_network = gpd.GeoDataFrame(broken_network, geometry='geometry')\n",
    "G_edges = broken_network.to_crs(3857)\n",
    "G_edges['length'] = G_edges.length\n",
    "G_edges = G_edges.to_crs(4326)\n",
    "G_edges = G_edges.to_crs(27700)\n",
    "# G = ox.graph_from_gdfs(G_nodes, G_edges)\n",
    "\n",
    "#G_after_processing = ox.graph_from_gdfs(G_nodes, G_edges)\n",
    "#G_after_processing2 = momepy.nx_to_gdf(G_after_processing)\n",
    "#print(G_after_processing)"
   ]
  },
  {
   "cell_type": "code",
   "execution_count": 20,
   "metadata": {},
   "outputs": [],
   "source": [
    "## clean data\n",
    "\n",
    "# streets\n",
    "walk_streets = G_edges[[\"geometry\", \"from\", \"to\", \"length\"]] # clean columns\n",
    "walk_streets = walk_streets.to_crs(27700) # set crs"
   ]
  },
  {
   "cell_type": "code",
   "execution_count": 21,
   "metadata": {},
   "outputs": [
    {
     "name": "stderr",
     "output_type": "stream",
     "text": [
      "C:\\Users\\b8008458\\AppData\\Local\\Temp\\ipykernel_24216\\1581756382.py:5: FutureWarning: Currently, index_parts defaults to True, but in the future, it will default to False to be consistent with Pandas. Use `index_parts=True` to keep the current behavior and True/False to silence the warning.\n",
      "  walk_streets.explode() # remove multipart rows\n"
     ]
    }
   ],
   "source": [
    "## generate pandana network\n",
    "# nodes and edges for walk network\n",
    "nodes_walk, edges_walk = momepy.nx_to_gdf( # convert network to gdf\n",
    "    momepy.gdf_to_nx( # convert to nx graph\n",
    "        walk_streets.explode() # remove multipart rows\n",
    "    )\n",
    ")\n",
    "nodes_walk = nodes_walk.set_index('nodeID') # set index\n",
    "\n",
    "# generate walk pandana network\n",
    "walk_streets_pdna = pdna.Network( \n",
    "    nodes_walk.geometry.x,\n",
    "    nodes_walk.geometry.y,\n",
    "    edges_walk['node_start'], # set origins\n",
    "    edges_walk['node_end'], # set destinations\n",
    "    edges_walk[['mm_len']] # set edge length\n",
    ")"
   ]
  },
  {
   "cell_type": "code",
   "execution_count": 22,
   "metadata": {},
   "outputs": [
    {
     "name": "stderr",
     "output_type": "stream",
     "text": [
      "c:\\Users\\b8008458\\Anaconda3\\envs\\ox\\lib\\site-packages\\pandana\\network.py:660: FutureWarning: The default dtype for empty Series will be 'object' instead of 'float64' in a future version. Specify a dtype explicitly to silence this warning.\n",
      "  elif isinstance(maxitems, type(pd.Series())):\n",
      "c:\\Users\\b8008458\\Anaconda3\\envs\\ox\\lib\\site-packages\\pandana\\network.py:668: FutureWarning: The default dtype for empty Series will be 'object' instead of 'float64' in a future version. Specify a dtype explicitly to silence this warning.\n",
      "  elif isinstance(maxdist, type(pd.Series())):\n"
     ]
    }
   ],
   "source": [
    "# attach pois to the network\n",
    "walk_streets_pdna.set_pois( # snap pois to network\n",
    "    category = 'pois', # set name of the new layer snapped on the network\n",
    "    maxdist = walk_dist, # set maximum distance\n",
    "    maxitems = no_pois, # set maximum number of pois to look for\n",
    "    x_col = pois.geometry.x,\n",
    "    y_col = pois.geometry.y\n",
    ")\n",
    "results = walk_streets_pdna.nearest_pois( # calculate distances to pois\n",
    "    distance = walk_dist, # maximum distance\n",
    "    category = 'pois', # layer where we want to look for\n",
    "    num_pois = no_pois, # max number of pois to look for\n",
    "    include_poi_ids = True # include pois ids\n",
    ")"
   ]
  },
  {
   "cell_type": "code",
   "execution_count": 23,
   "metadata": {},
   "outputs": [],
   "source": [
    "# store results separately as distances and poiIDs\n",
    "\n",
    "# separate distances from poi ids\n",
    "distances = results.iloc[:,:round(len(results.columns)/2,)] # create df with distances\n",
    "pois_ids = results.iloc[:,round(len(results.columns)/2,):] # create df with pois ids\n",
    "\n",
    "# convert wide matrices to long\n",
    "distances_long = pd.melt(distances.reset_index(), id_vars='nodeID',value_name='distance') # make matrix long\n",
    "pois_ids_long = pd.melt(pois_ids.reset_index(), id_vars='nodeID',value_name='poiID') # make matrix long\n",
    "\n",
    "# create an od long df containing nodeID, distance, and poiID\n",
    "od = distances_long\n",
    "od['poiID'] = pois_ids_long['poiID'].astype('Int64') # set a column with pois ids (as they are indexed, they are already in the right order)\n",
    "\n",
    "# format od matrix and drop NAs\n",
    "od = od[['nodeID','poiID','distance']] # clean columns\n",
    "od = od.dropna() # drop NAs"
   ]
  },
  {
   "cell_type": "code",
   "execution_count": 24,
   "metadata": {},
   "outputs": [],
   "source": [
    "# merge od data with POIs data\n",
    "pois = pois.reset_index() # reset index pois df"
   ]
  },
  {
   "cell_type": "code",
   "execution_count": 25,
   "metadata": {},
   "outputs": [],
   "source": [
    "od_pois_info = pd.merge(od, pois[['amenity','poiID']].reset_index(), left_on='poiID', right_on='poiID') # merge pois info to od matrix"
   ]
  },
  {
   "cell_type": "code",
   "execution_count": 26,
   "metadata": {},
   "outputs": [],
   "source": [
    "# add lsoa information to the od_pois_info \n",
    "lsoa_nodes = walk_streets_pdna.get_node_ids( # get nearest street nodes to each postcode\n",
    "    lsoas.geometry.x,\n",
    "    lsoas.geometry.y\n",
    ")\n",
    "lsoa_nodes = gpd.GeoDataFrame(lsoa_nodes).reset_index() # reset index\n",
    "lsoa_nodes = lsoa_nodes.rename(columns={'node_id':'nodeID'}) # change col names\n"
   ]
  },
  {
   "cell_type": "code",
   "execution_count": 27,
   "metadata": {},
   "outputs": [],
   "source": [
    "# get lsoa geometries\n",
    "lsoa_nodes = lsoa_nodes.merge(lsoas, on='lsoaID', how='left', suffixes=('','_y'))\n",
    "lsoa_nodes.drop(lsoa_nodes.filter(regex='_y$').columns, axis =1, inplace=True)\n",
    "lsoa_nodes = lsoa_nodes[['lsoaID','nodeID','geometry']]"
   ]
  },
  {
   "cell_type": "code",
   "execution_count": 28,
   "metadata": {},
   "outputs": [],
   "source": [
    "# add lsoas to od_pois_info\n",
    "od_pois_info = pd.merge(od_pois_info, lsoa_nodes, left_on='nodeID', right_on='nodeID') # add lsoa to od matrix\n",
    "\n",
    "# to csv file \n",
    "od_pois_info.to_csv(r'C:\\Users\\b8008458\\Documents\\2021_2022\\Scratch Space\\od_pois_info_barrier.csv', index=False)"
   ]
  },
  {
   "cell_type": "code",
   "execution_count": 29,
   "metadata": {},
   "outputs": [],
   "source": [
    "# save to geospatail format\n",
    "od_pois_info = gpd.GeoDataFrame(od_pois_info, geometry = 'geometry')\n",
    "od_pois_info.to_file(r'C:\\Users\\b8008458\\Documents\\2021_2022\\Scratch Space\\od_pois_info_barrier.shp', index=False)"
   ]
  },
  {
   "cell_type": "code",
   "execution_count": 30,
   "metadata": {},
   "outputs": [],
   "source": [
    "# count the number of aminites accessable from a given lsoa\n",
    "lsoa_level_accessablity = od_pois_info.groupby(\"lsoaID\").size()"
   ]
  },
  {
   "cell_type": "code",
   "execution_count": 31,
   "metadata": {},
   "outputs": [],
   "source": [
    "# convert to dataframe\n",
    "lsoa_level_accessablity = pd.DataFrame(lsoa_level_accessablity)\n",
    "\n",
    "# merge with orignal lsoa file\n",
    "lsoas = lsoas.merge(lsoa_level_accessablity, on='lsoaID', how='left', suffixes=('','_y'))\n",
    "lsoas.drop(lsoas.filter(regex='_y$').columns, axis =1, inplace=True)\n",
    "lsoas.rename(columns = {0:'amenity count barriers'}, inplace = True)"
   ]
  },
  {
   "cell_type": "code",
   "execution_count": 33,
   "metadata": {},
   "outputs": [],
   "source": [
    "lsoas['amenity_diff'] =  lsoas['amenity count'].sub(lsoas['amenity count barriers'], axis = 0)"
   ]
  },
  {
   "cell_type": "code",
   "execution_count": 34,
   "metadata": {},
   "outputs": [],
   "source": [
    "# output to file\n",
    "lsoas.to_file(r\"C:\\Users\\b8008458\\Documents\\2021_2022\\Scratch Space\\YorkLSOASTESTBArrier.gpkg\")"
   ]
  },
  {
   "cell_type": "code",
   "execution_count": 36,
   "metadata": {},
   "outputs": [],
   "source": [
    "pois.to_file(r\"C:\\Users\\b8008458\\Documents\\2021_2022\\Scratch Space\\pois.gpkg\")"
   ]
  }
 ],
 "metadata": {
  "kernelspec": {
   "display_name": "Python 3.9.13",
   "language": "python",
   "name": "python3"
  },
  "language_info": {
   "codemirror_mode": {
    "name": "ipython",
    "version": 3
   },
   "file_extension": ".py",
   "mimetype": "text/x-python",
   "name": "python",
   "nbconvert_exporter": "python",
   "pygments_lexer": "ipython3",
   "version": "3.9.13"
  },
  "orig_nbformat": 4,
  "vscode": {
   "interpreter": {
    "hash": "ecaf3126c0193b8fe7985334898c59c7f4f49be54a51b019409fc7072121fbc3"
   }
  }
 },
 "nbformat": 4,
 "nbformat_minor": 2
}
