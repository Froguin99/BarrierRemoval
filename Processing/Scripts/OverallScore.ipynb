{
 "cells": [
  {
   "cell_type": "code",
   "execution_count": 22,
   "metadata": {},
   "outputs": [],
   "source": [
    "# Standard imports\n",
    "import numpy as np # linear algebra\n",
    "import pandas as pd # data processing, CSV file I/O (e.g. pd.read_csv)\n",
    "import geopandas as gpd"
   ]
  },
  {
   "cell_type": "code",
   "execution_count": 23,
   "metadata": {},
   "outputs": [],
   "source": [
    "# data can be found under ...Github\\BarrierRemoval\\Data\\Test Data\\Python\\FullBarrierLayer.shp\n",
    "barriers = gpd.read_file(r\"C:\\Users\\b8008458\\OneDrive - Newcastle University\\2021 to 2022\\Dissertation\\Github\\BarrierRemoval\\Study Areas\\York\\Barriers\\YorkBarriersScored.gpkg\")"
   ]
  },
  {
   "cell_type": "code",
   "execution_count": 24,
   "metadata": {},
   "outputs": [
    {
     "data": {
      "text/html": [
       "<div>\n",
       "<style scoped>\n",
       "    .dataframe tbody tr th:only-of-type {\n",
       "        vertical-align: middle;\n",
       "    }\n",
       "\n",
       "    .dataframe tbody tr th {\n",
       "        vertical-align: top;\n",
       "    }\n",
       "\n",
       "    .dataframe thead th {\n",
       "        text-align: right;\n",
       "    }\n",
       "</style>\n",
       "<table border=\"1\" class=\"dataframe\">\n",
       "  <thead>\n",
       "    <tr style=\"text-align: right;\">\n",
       "      <th></th>\n",
       "      <th>globalid</th>\n",
       "      <th>AuditAmend</th>\n",
       "      <th>CriticalDi</th>\n",
       "      <th>OnNCN</th>\n",
       "      <th>Restrictio</th>\n",
       "      <th>Critical_1</th>\n",
       "      <th>Other</th>\n",
       "      <th>Status</th>\n",
       "      <th>CreationDa</th>\n",
       "      <th>Creator</th>\n",
       "      <th>...</th>\n",
       "      <th>origin_id</th>\n",
       "      <th>total_cost</th>\n",
       "      <th>CarsPerCit</th>\n",
       "      <th>IMDScore</th>\n",
       "      <th>objectid</th>\n",
       "      <th>amenity_diff</th>\n",
       "      <th>amenity_diff_bike</th>\n",
       "      <th>total_pass</th>\n",
       "      <th>Betweennes</th>\n",
       "      <th>geometry</th>\n",
       "    </tr>\n",
       "  </thead>\n",
       "  <tbody>\n",
       "    <tr>\n",
       "      <th>0</th>\n",
       "      <td>54ade712-9b6c-4716-96c0-9efb9f62d005</td>\n",
       "      <td>Auditing</td>\n",
       "      <td>0</td>\n",
       "      <td>yes</td>\n",
       "      <td>BollardMultiple</td>\n",
       "      <td>105</td>\n",
       "      <td>None</td>\n",
       "      <td>Too Narrow</td>\n",
       "      <td>2022-06-20</td>\n",
       "      <td>RH_Access_Sustrans_UK</td>\n",
       "      <td>...</td>\n",
       "      <td>54ade712-9b6c-4716-96c0-9efb9f62d005</td>\n",
       "      <td>150.568612</td>\n",
       "      <td>0.473555</td>\n",
       "      <td>6.104</td>\n",
       "      <td>46543</td>\n",
       "      <td>82</td>\n",
       "      <td>573</td>\n",
       "      <td>4403.0</td>\n",
       "      <td>0.000070</td>\n",
       "      <td>POINT (460281.698 450314.716)</td>\n",
       "    </tr>\n",
       "    <tr>\n",
       "      <th>1</th>\n",
       "      <td>f6daa07a-d3e7-4f04-abd9-4cae134e562f</td>\n",
       "      <td>Auditing</td>\n",
       "      <td>0</td>\n",
       "      <td>yes</td>\n",
       "      <td>BollardMultiple</td>\n",
       "      <td>224</td>\n",
       "      <td>None</td>\n",
       "      <td>Acceptable Width</td>\n",
       "      <td>2022-06-20</td>\n",
       "      <td>RH_Access_Sustrans_UK</td>\n",
       "      <td>...</td>\n",
       "      <td>f6daa07a-d3e7-4f04-abd9-4cae134e562f</td>\n",
       "      <td>104.259386</td>\n",
       "      <td>0.380858</td>\n",
       "      <td>6.808</td>\n",
       "      <td>39803</td>\n",
       "      <td>81</td>\n",
       "      <td>557</td>\n",
       "      <td>10596.0</td>\n",
       "      <td>0.000797</td>\n",
       "      <td>POINT (460387.948 450211.747)</td>\n",
       "    </tr>\n",
       "  </tbody>\n",
       "</table>\n",
       "<p>2 rows × 44 columns</p>\n",
       "</div>"
      ],
      "text/plain": [
       "                               globalid AuditAmend  CriticalDi OnNCN  \\\n",
       "0  54ade712-9b6c-4716-96c0-9efb9f62d005   Auditing           0   yes   \n",
       "1  f6daa07a-d3e7-4f04-abd9-4cae134e562f   Auditing           0   yes   \n",
       "\n",
       "        Restrictio  Critical_1 Other            Status  CreationDa  \\\n",
       "0  BollardMultiple         105  None        Too Narrow  2022-06-20   \n",
       "1  BollardMultiple         224  None  Acceptable Width  2022-06-20   \n",
       "\n",
       "                 Creator  ...                             origin_id  \\\n",
       "0  RH_Access_Sustrans_UK  ...  54ade712-9b6c-4716-96c0-9efb9f62d005   \n",
       "1  RH_Access_Sustrans_UK  ...  f6daa07a-d3e7-4f04-abd9-4cae134e562f   \n",
       "\n",
       "   total_cost CarsPerCit IMDScore objectid  amenity_diff amenity_diff_bike  \\\n",
       "0  150.568612   0.473555    6.104    46543            82               573   \n",
       "1  104.259386   0.380858    6.808    39803            81               557   \n",
       "\n",
       "  total_pass Betweennes                       geometry  \n",
       "0     4403.0   0.000070  POINT (460281.698 450314.716)  \n",
       "1    10596.0   0.000797  POINT (460387.948 450211.747)  \n",
       "\n",
       "[2 rows x 44 columns]"
      ]
     },
     "execution_count": 24,
     "metadata": {},
     "output_type": "execute_result"
    }
   ],
   "source": [
    "barriers.head(2)"
   ]
  },
  {
   "cell_type": "code",
   "execution_count": 26,
   "metadata": {},
   "outputs": [
    {
     "name": "stderr",
     "output_type": "stream",
     "text": [
      "C:\\Users\\b8008458\\AppData\\Local\\Temp\\ipykernel_27796\\1641242161.py:4: SettingWithCopyWarning: \n",
      "A value is trying to be set on a copy of a slice from a DataFrame.\n",
      "Try using .loc[row_indexer,col_indexer] = value instead\n",
      "\n",
      "See the caveats in the documentation: https://pandas.pydata.org/pandas-docs/stable/user_guide/indexing.html#returning-a-view-versus-a-copy\n",
      "  barrier_copy['Critical_1'] *= -1\n",
      "C:\\Users\\b8008458\\AppData\\Local\\Temp\\ipykernel_27796\\1641242161.py:5: SettingWithCopyWarning: \n",
      "A value is trying to be set on a copy of a slice from a DataFrame.\n",
      "Try using .loc[row_indexer,col_indexer] = value instead\n",
      "\n",
      "See the caveats in the documentation: https://pandas.pydata.org/pandas-docs/stable/user_guide/indexing.html#returning-a-view-versus-a-copy\n",
      "  barrier_copy['IMDScore'] *= -1 # IMDScore and CarsPerCit for England, rank for Wales\n",
      "C:\\Users\\b8008458\\AppData\\Local\\Temp\\ipykernel_27796\\1641242161.py:6: SettingWithCopyWarning: \n",
      "A value is trying to be set on a copy of a slice from a DataFrame.\n",
      "Try using .loc[row_indexer,col_indexer] = value instead\n",
      "\n",
      "See the caveats in the documentation: https://pandas.pydata.org/pandas-docs/stable/user_guide/indexing.html#returning-a-view-versus-a-copy\n",
      "  barrier_copy['CarsPerCit'] *= -1 # IMDScore and CarsPerCit for England, CarPerCit for Wales\n",
      "C:\\Users\\b8008458\\AppData\\Local\\Temp\\ipykernel_27796\\1641242161.py:9: SettingWithCopyWarning: \n",
      "A value is trying to be set on a copy of a slice from a DataFrame.\n",
      "Try using .loc[row_indexer,col_indexer] = value instead\n",
      "\n",
      "See the caveats in the documentation: https://pandas.pydata.org/pandas-docs/stable/user_guide/indexing.html#returning-a-view-versus-a-copy\n",
      "  barrier_copy[column] = (barrier_copy[column] - barrier_copy[column].min()) / (barrier_copy[column].max() - barrier_copy[column].min())\n"
     ]
    }
   ],
   "source": [
    "# normliase all mertic\n",
    "barrier_copy = barriers[['Betweennes','total_pass', 'min_gain','Critical_1','CarsPerCit','IMDScore', 'amenity_diff','amenity_diff_bike']] # IMDScore and CarsPerCit for England\n",
    "# inverse weighting for barriers as wider barriers are better barriers :)\n",
    "barrier_copy['Critical_1'] *= -1\n",
    "barrier_copy['IMDScore'] *= -1 # IMDScore and CarsPerCit for England, rank for Wales\n",
    "barrier_copy['CarsPerCit'] *= -1 # IMDScore and CarsPerCit for England, CarPerCit for Wales\n",
    "\n",
    "for column in barrier_copy:\n",
    "    barrier_copy[column] = (barrier_copy[column] - barrier_copy[column].min()) / (barrier_copy[column].max() - barrier_copy[column].min())\n",
    "    "
   ]
  },
  {
   "cell_type": "code",
   "execution_count": 27,
   "metadata": {},
   "outputs": [
    {
     "data": {
      "text/plain": [
       "<AxesSubplot:xlabel='Barrier ID', ylabel='Overall Score'>"
      ]
     },
     "execution_count": 27,
     "metadata": {},
     "output_type": "execute_result"
    },
    {
     "data": {
      "image/png": "[encoded data removed]",
      "text/plain": [
       "<Figure size 720x432 with 1 Axes>"
      ]
     },
     "metadata": {
      "needs_background": "light"
     },
     "output_type": "display_data"
    }
   ],
   "source": [
    "row = barrier_copy.iloc[32]\n",
    "row.plot(kind = 'bar', figsize=(10,6), color='cornflowerblue', xlabel='Barrier ID', ylabel='Overall Score')"
   ]
  },
  {
   "cell_type": "code",
   "execution_count": 29,
   "metadata": {},
   "outputs": [
    {
     "name": "stderr",
     "output_type": "stream",
     "text": [
      "C:\\Users\\b8008458\\AppData\\Local\\Temp\\ipykernel_27796\\3160976048.py:2: SettingWithCopyWarning: \n",
      "A value is trying to be set on a copy of a slice from a DataFrame.\n",
      "Try using .loc[row_indexer,col_indexer] = value instead\n",
      "\n",
      "See the caveats in the documentation: https://pandas.pydata.org/pandas-docs/stable/user_guide/indexing.html#returning-a-view-versus-a-copy\n",
      "  barrier_copy['Betweennes'] = barrier_copy['Betweennes'] * 0.057\n",
      "C:\\Users\\b8008458\\AppData\\Local\\Temp\\ipykernel_27796\\3160976048.py:3: SettingWithCopyWarning: \n",
      "A value is trying to be set on a copy of a slice from a DataFrame.\n",
      "Try using .loc[row_indexer,col_indexer] = value instead\n",
      "\n",
      "See the caveats in the documentation: https://pandas.pydata.org/pandas-docs/stable/user_guide/indexing.html#returning-a-view-versus-a-copy\n",
      "  barrier_copy['total_pass'] = barrier_copy['total_pass'] * 0.011\n",
      "C:\\Users\\b8008458\\AppData\\Local\\Temp\\ipykernel_27796\\3160976048.py:4: SettingWithCopyWarning: \n",
      "A value is trying to be set on a copy of a slice from a DataFrame.\n",
      "Try using .loc[row_indexer,col_indexer] = value instead\n",
      "\n",
      "See the caveats in the documentation: https://pandas.pydata.org/pandas-docs/stable/user_guide/indexing.html#returning-a-view-versus-a-copy\n",
      "  barrier_copy['min_gain'] = barrier_copy['min_gain'] * 0.016\n",
      "C:\\Users\\b8008458\\AppData\\Local\\Temp\\ipykernel_27796\\3160976048.py:5: SettingWithCopyWarning: \n",
      "A value is trying to be set on a copy of a slice from a DataFrame.\n",
      "Try using .loc[row_indexer,col_indexer] = value instead\n",
      "\n",
      "See the caveats in the documentation: https://pandas.pydata.org/pandas-docs/stable/user_guide/indexing.html#returning-a-view-versus-a-copy\n",
      "  barrier_copy['Critical_1'] = barrier_copy['Critical_1'] * 0.451\n",
      "C:\\Users\\b8008458\\AppData\\Local\\Temp\\ipykernel_27796\\3160976048.py:6: SettingWithCopyWarning: \n",
      "A value is trying to be set on a copy of a slice from a DataFrame.\n",
      "Try using .loc[row_indexer,col_indexer] = value instead\n",
      "\n",
      "See the caveats in the documentation: https://pandas.pydata.org/pandas-docs/stable/user_guide/indexing.html#returning-a-view-versus-a-copy\n",
      "  barrier_copy['CarsPerCit'] = barrier_copy['CarsPerCit'] * 0.013 # carspercit for Wales\n",
      "C:\\Users\\b8008458\\AppData\\Local\\Temp\\ipykernel_27796\\3160976048.py:7: SettingWithCopyWarning: \n",
      "A value is trying to be set on a copy of a slice from a DataFrame.\n",
      "Try using .loc[row_indexer,col_indexer] = value instead\n",
      "\n",
      "See the caveats in the documentation: https://pandas.pydata.org/pandas-docs/stable/user_guide/indexing.html#returning-a-view-versus-a-copy\n",
      "  barrier_copy['IMDScore'] = barrier_copy['IMDScore'] * 0.056 # rank for Wales\n",
      "C:\\Users\\b8008458\\AppData\\Local\\Temp\\ipykernel_27796\\3160976048.py:8: SettingWithCopyWarning: \n",
      "A value is trying to be set on a copy of a slice from a DataFrame.\n",
      "Try using .loc[row_indexer,col_indexer] = value instead\n",
      "\n",
      "See the caveats in the documentation: https://pandas.pydata.org/pandas-docs/stable/user_guide/indexing.html#returning-a-view-versus-a-copy\n",
      "  barrier_copy['amenity_diff'] = barrier_copy['amenity_diff'] * 0.165\n",
      "C:\\Users\\b8008458\\AppData\\Local\\Temp\\ipykernel_27796\\3160976048.py:9: SettingWithCopyWarning: \n",
      "A value is trying to be set on a copy of a slice from a DataFrame.\n",
      "Try using .loc[row_indexer,col_indexer] = value instead\n",
      "\n",
      "See the caveats in the documentation: https://pandas.pydata.org/pandas-docs/stable/user_guide/indexing.html#returning-a-view-versus-a-copy\n",
      "  barrier_copy['amenity_diff_bike'] = barrier_copy['amenity_diff_bike'] * 0.165\n"
     ]
    }
   ],
   "source": [
    "# apply weights derived from AHP\n",
    "barrier_copy['Betweennes'] = barrier_copy['Betweennes'] * 0.057\n",
    "barrier_copy['total_pass'] = barrier_copy['total_pass'] * 0.011\n",
    "barrier_copy['min_gain'] = barrier_copy['min_gain'] * 0.016\n",
    "barrier_copy['Critical_1'] = barrier_copy['Critical_1'] * 0.451\n",
    "barrier_copy['CarsPerCit'] = barrier_copy['CarsPerCit'] * 0.013 # carspercit for Wales\n",
    "barrier_copy['IMDScore'] = barrier_copy['IMDScore'] * 0.056 # rank for Wales\n",
    "barrier_copy['amenity_diff'] = barrier_copy['amenity_diff'] * 0.165\n",
    "barrier_copy['amenity_diff_bike'] = barrier_copy['amenity_diff_bike'] * 0.165"
   ]
  },
  {
   "cell_type": "code",
   "execution_count": 30,
   "metadata": {},
   "outputs": [
    {
     "data": {
      "text/plain": [
       "<AxesSubplot:xlabel='Barrier ID', ylabel='Overall Score'>"
      ]
     },
     "execution_count": 30,
     "metadata": {},
     "output_type": "execute_result"
    },
    {
     "data": {
      "image/png": "[encoded data removed]",
      "text/plain": [
       "<Figure size 720x432 with 1 Axes>"
      ]
     },
     "metadata": {
      "needs_background": "light"
     },
     "output_type": "display_data"
    }
   ],
   "source": [
    "row = barrier_copy.iloc[32]\n",
    "row.plot(kind = 'bar', figsize=(10,6), color='cornflowerblue', xlabel='Barrier ID', ylabel='Overall Score')"
   ]
  },
  {
   "cell_type": "code",
   "execution_count": 32,
   "metadata": {},
   "outputs": [
    {
     "name": "stderr",
     "output_type": "stream",
     "text": [
      "C:\\Users\\b8008458\\AppData\\Local\\Temp\\ipykernel_27796\\43616866.py:3: SettingWithCopyWarning: \n",
      "A value is trying to be set on a copy of a slice from a DataFrame.\n",
      "Try using .loc[row_indexer,col_indexer] = value instead\n",
      "\n",
      "See the caveats in the documentation: https://pandas.pydata.org/pandas-docs/stable/user_guide/indexing.html#returning-a-view-versus-a-copy\n",
      "  barrier_copy['Overall_Score'] = barrier_copy[cols].sum(axis=1)\n"
     ]
    },
    {
     "data": {
      "text/plain": [
       "<AxesSubplot:xlabel='Barrier ID', ylabel='Overall Score'>"
      ]
     },
     "execution_count": 32,
     "metadata": {},
     "output_type": "execute_result"
    },
    {
     "data": {
      "image/png": "[encoded data removed]",
      "text/plain": [
       "<Figure size 720x432 with 1 Axes>"
      ]
     },
     "metadata": {
      "needs_background": "light"
     },
     "output_type": "display_data"
    }
   ],
   "source": [
    "# final scoring\n",
    "cols = ['Betweennes','total_pass', 'min_gain','Critical_1','CarsPerCit','IMDScore', 'amenity_diff','amenity_diff_bike'] # IMDScore and CarsPerCit for England\n",
    "barrier_copy['Overall_Score'] = barrier_copy[cols].sum(axis=1)\n",
    "barrier_copy['Overall_Score'].plot(kind = 'bar', figsize=(10,6), color='cornflowerblue', xlabel='Barrier ID', ylabel='Overall Score')"
   ]
  },
  {
   "cell_type": "code",
   "execution_count": 33,
   "metadata": {},
   "outputs": [
    {
     "name": "stderr",
     "output_type": "stream",
     "text": [
      "C:\\Users\\b8008458\\AppData\\Local\\Temp\\ipykernel_27796\\2127132075.py:4: SettingWithCopyWarning: \n",
      "A value is trying to be set on a copy of a slice from a DataFrame.\n",
      "Try using .loc[row_indexer,col_indexer] = value instead\n",
      "\n",
      "See the caveats in the documentation: https://pandas.pydata.org/pandas-docs/stable/user_guide/indexing.html#returning-a-view-versus-a-copy\n",
      "  barrier_copy['Index'] = barrier_copy.index\n"
     ]
    }
   ],
   "source": [
    "# join final scores back to original barrier dataset\n",
    "\n",
    "# set indexs to join on\n",
    "barrier_copy['Index'] = barrier_copy.index\n",
    "barriers['Index'] = barriers.index\n",
    "\n",
    "# join \n",
    "barrier_copy = gpd.GeoDataFrame(barrier_copy)\n",
    "join = barriers.merge(barrier_copy, on = 'Index', how='left', suffixes=('_x', ''))\n",
    "join.drop(join.filter(regex='_x$').columns, axis=1, inplace=True)"
   ]
  },
  {
   "cell_type": "code",
   "execution_count": 34,
   "metadata": {},
   "outputs": [
    {
     "data": {
      "text/plain": [
       "<AxesSubplot:xlabel='Barrier ID', ylabel='Overall Score'>"
      ]
     },
     "execution_count": 34,
     "metadata": {},
     "output_type": "execute_result"
    },
    {
     "data": {
      "image/png": "[encoded data removed]",
      "text/plain": [
       "<Figure size 1440x432 with 1 Axes>"
      ]
     },
     "metadata": {
      "needs_background": "light"
     },
     "output_type": "display_data"
    }
   ],
   "source": [
    "import matplotlib as plt\n",
    "barrier_copy['Overall_Score'].plot(kind = 'bar', figsize=(20,6), color='cornflowerblue', xlabel='Barrier ID', ylabel='Overall Score')"
   ]
  },
  {
   "cell_type": "code",
   "execution_count": 35,
   "metadata": {},
   "outputs": [],
   "source": [
    "join.to_file(r\"C:\\Users\\b8008458\\OneDrive - Newcastle University\\2021 to 2022\\Dissertation\\Github\\BarrierRemoval\\Study Areas\\York\\Barriers\\YorkBarriersMetricsWeighted.gpkg\")"
   ]
  }
 ],
 "metadata": {
  "kernelspec": {
   "display_name": "Python 3.9.13",
   "language": "python",
   "name": "python3"
  },
  "language_info": {
   "codemirror_mode": {
    "name": "ipython",
    "version": 3
   },
   "file_extension": ".py",
   "mimetype": "text/x-python",
   "name": "python",
   "nbconvert_exporter": "python",
   "pygments_lexer": "ipython3",
   "version": "3.9.13"
  },
  "orig_nbformat": 4,
  "vscode": {
   "interpreter": {
    "hash": "ecaf3126c0193b8fe7985334898c59c7f4f49be54a51b019409fc7072121fbc3"
   }
  }
 },
 "nbformat": 4,
 "nbformat_minor": 2
}
