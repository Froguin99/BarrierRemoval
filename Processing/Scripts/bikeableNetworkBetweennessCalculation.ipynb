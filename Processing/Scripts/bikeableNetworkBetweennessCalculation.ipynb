{
 "cells": [
  {
   "cell_type": "code",
   "execution_count": null,
   "metadata": {},
   "outputs": [],
   "source": [
    "# libary imports\n",
    "import momepy\n",
    "import pandas as pd\n",
    "import geopandas as gpd\n",
    "import networkx as nx \n",
    "import osmnx as ox\n",
    "from matplotlib import pyplot as plt\n",
    "import pandana as pdna\n",
    "import time"
   ]
  },
  {
   "cell_type": "code",
   "execution_count": null,
   "metadata": {},
   "outputs": [],
   "source": [
    "# start timer\n",
    "start = time.time()"
   ]
  },
  {
   "cell_type": "code",
   "execution_count": null,
   "metadata": {},
   "outputs": [],
   "source": [
    "# read in edges\n",
    "OSM_edges = gpd.read_file(r'C:\\Users\\b8008458\\Documents\\2021_2022\\Scratch Space\\York\\Bike Network\\bike_network_costs.shp')"
   ]
  },
  {
   "cell_type": "code",
   "execution_count": null,
   "metadata": {},
   "outputs": [],
   "source": [
    "# convert to graph\n",
    "G = momepy.gdf_to_nx(OSM_edges, approach=\"primal\", length=\"cost\")\n"
   ]
  },
  {
   "cell_type": "code",
   "execution_count": null,
   "metadata": {},
   "outputs": [],
   "source": [
    "# calculate betweeness_centrality\n",
    "print(\"Starting calculation\")\n",
    "print(\"This can take up to 24 hours to process depending on graph size and processing power...\")\n",
    "\n",
    "# use k = 500 for faster running\n",
    "bc = nx.edge_betweenness_centrality(G, k = 25000, weight='cost', seed=23, normalized = False)\n",
    "bc = pd.DataFrame(bc.items())\n",
    "\n",
    "print(\"Betweenness calculated\")"
   ]
  },
  {
   "cell_type": "code",
   "execution_count": null,
   "metadata": {},
   "outputs": [],
   "source": [
    "# join calculated betweeness and edges\n",
    "\n",
    "OSM_edges['edge_index'] = range(1, len(OSM_edges) + 1)\n",
    "OSM_edges['edge_index'] = OSM_edges['edge_index'] - 1\n",
    "bc['edge_index'] =  range(1, len(bc) + 1)\n",
    "bc['edge_index'] =  bc['edge_index'] - 1\n",
    "OSM_edges = pd.merge(OSM_edges, bc, on = 'edge_index')"
   ]
  },
  {
   "cell_type": "code",
   "execution_count": null,
   "metadata": {},
   "outputs": [],
   "source": [
    "# rename columns and drop unnessacary rows\n",
    "OSM_edges.rename(columns = {1:'Betweenness'}, inplace = True)\n",
    "OSM_edges.drop([0,'edge_index'], axis=1, inplace=True)"
   ]
  },
  {
   "cell_type": "code",
   "execution_count": null,
   "metadata": {},
   "outputs": [],
   "source": [
    "OSM_edges.to_file(r'C:\\Users\\b8008458\\Documents\\2021_2022\\Scratch Space\\York\\Bike Network\\bike_network_costs_bc.shp')"
   ]
  },
  {
   "cell_type": "code",
   "execution_count": null,
   "metadata": {},
   "outputs": [],
   "source": [
    "end = time.time()\n",
    "print(\"Execution time is:\", end-start, \"seconds\")"
   ]
  }
 ],
 "metadata": {
  "language_info": {
   "name": "python"
  },
  "orig_nbformat": 4
 },
 "nbformat": 4,
 "nbformat_minor": 2
}
