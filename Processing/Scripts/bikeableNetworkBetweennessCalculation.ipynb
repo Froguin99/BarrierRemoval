{
 "cells": [
  {
   "cell_type": "code",
   "execution_count": 1,
   "metadata": {},
   "outputs": [],
   "source": [
    "# libary imports\n",
    "import momepy\n",
    "import pandas as pd\n",
    "import geopandas as gpd\n",
    "import networkx as nx \n",
    "import osmnx as ox\n",
    "from matplotlib import pyplot as plt\n",
    "import pandana as pdna\n",
    "import time"
   ]
  },
  {
   "cell_type": "code",
   "execution_count": 2,
   "metadata": {},
   "outputs": [],
   "source": [
    "# start timer\n",
    "start = time.time()"
   ]
  },
  {
   "cell_type": "code",
   "execution_count": 3,
   "metadata": {},
   "outputs": [],
   "source": [
    "# read in edges\n",
    "OSM_edges = gpd.read_file(r'C:\\Users\\b8008458\\OneDrive - Newcastle University\\2021 to 2022\\Dissertation\\Github\\BarrierRemoval\\Study Areas\\Pembrokeshire\\Bike Network\\Pem_bike_network_costs.shp')"
   ]
  },
  {
   "cell_type": "code",
   "execution_count": 4,
   "metadata": {},
   "outputs": [
    {
     "name": "stderr",
     "output_type": "stream",
     "text": [
      "c:\\Users\\b8008458\\Anaconda3\\envs\\ox\\lib\\site-packages\\momepy\\utils.py:142: UserWarning: Geometry is in a geographic CRS. Results from 'length' are likely incorrect. Use 'GeoSeries.to_crs()' to re-project geometries to a projected CRS before this operation.\n",
      "\n",
      "  gdf_network[length] = gdf_network.geometry.length\n"
     ]
    }
   ],
   "source": [
    "# convert to graph\n",
    "G = momepy.gdf_to_nx(OSM_edges, approach=\"primal\", length=\"cost\")\n"
   ]
  },
  {
   "cell_type": "code",
   "execution_count": 5,
   "metadata": {},
   "outputs": [
    {
     "name": "stdout",
     "output_type": "stream",
     "text": [
      "Starting calculation\n",
      "This can take up to 24 hours to process depending on graph size and processing power...\n",
      "Betweenness calculated\n"
     ]
    }
   ],
   "source": [
    "# calculate betweeness_centrality\n",
    "print(\"Starting calculation\")\n",
    "print(\"This can take up to 24 hours to process depending on graph size and processing power...\")\n",
    "\n",
    "# use k = 500 for faster running\n",
    "bc = nx.edge_betweenness_centrality(G, weight='cost', seed=23, normalized = False)\n",
    "bc = pd.DataFrame(bc.items())\n",
    "\n",
    "print(\"Betweenness calculated\")"
   ]
  },
  {
   "cell_type": "code",
   "execution_count": 6,
   "metadata": {},
   "outputs": [],
   "source": [
    "# join calculated betweeness and edges\n",
    "\n",
    "OSM_edges['edge_index'] = range(1, len(OSM_edges) + 1)\n",
    "OSM_edges['edge_index'] = OSM_edges['edge_index'] - 1\n",
    "bc['edge_index'] =  range(1, len(bc) + 1)\n",
    "bc['edge_index'] =  bc['edge_index'] - 1\n",
    "OSM_edges = pd.merge(OSM_edges, bc, on = 'edge_index')"
   ]
  },
  {
   "cell_type": "code",
   "execution_count": 7,
   "metadata": {},
   "outputs": [],
   "source": [
    "# rename columns and drop unnessacary rows\n",
    "OSM_edges.rename(columns = {1:'Betweenness'}, inplace = True)\n",
    "OSM_edges.drop([0,'edge_index'], axis=1, inplace=True)"
   ]
  },
  {
   "cell_type": "code",
   "execution_count": 8,
   "metadata": {},
   "outputs": [
    {
     "name": "stderr",
     "output_type": "stream",
     "text": [
      "C:\\Users\\b8008458\\AppData\\Local\\Temp\\ipykernel_24060\\1111144126.py:1: UserWarning: Column names longer than 10 characters will be truncated when saved to ESRI Shapefile.\n",
      "  OSM_edges.to_file(r'C:\\Users\\b8008458\\OneDrive - Newcastle University\\2021 to 2022\\Dissertation\\Github\\BarrierRemoval\\Study Areas\\Pembrokeshire\\Bike Network\\bike_network_costs_bc.shp')\n"
     ]
    }
   ],
   "source": [
    "OSM_edges.to_file(r'C:\\Users\\b8008458\\OneDrive - Newcastle University\\2021 to 2022\\Dissertation\\Github\\BarrierRemoval\\Study Areas\\Pembrokeshire\\Bike Network\\bike_network_costs_bc.shp')"
   ]
  },
  {
   "cell_type": "code",
   "execution_count": 9,
   "metadata": {},
   "outputs": [
    {
     "name": "stdout",
     "output_type": "stream",
     "text": [
      "Execution time is: 7662.01772403717 seconds\n"
     ]
    }
   ],
   "source": [
    "end = time.time()\n",
    "print(\"Execution time is:\", end-start, \"seconds\")"
   ]
  }
 ],
 "metadata": {
  "kernelspec": {
   "display_name": "Python 3.9.13",
   "language": "python",
   "name": "python3"
  },
  "language_info": {
   "codemirror_mode": {
    "name": "ipython",
    "version": 3
   },
   "file_extension": ".py",
   "mimetype": "text/x-python",
   "name": "python",
   "nbconvert_exporter": "python",
   "pygments_lexer": "ipython3",
   "version": "3.9.13"
  },
  "orig_nbformat": 4,
  "vscode": {
   "interpreter": {
    "hash": "ecaf3126c0193b8fe7985334898c59c7f4f49be54a51b019409fc7072121fbc3"
   }
  }
 },
 "nbformat": 4,
 "nbformat_minor": 2
}
