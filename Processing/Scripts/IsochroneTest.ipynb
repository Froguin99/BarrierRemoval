{
 "cells": [
  {
   "cell_type": "code",
   "execution_count": 8,
   "outputs": [
    {
     "data": {
      "text/plain": "'1.0.1'"
     },
     "execution_count": 8,
     "metadata": {},
     "output_type": "execute_result"
    }
   ],
   "source": [
    "\n",
    "import geopandas as gpd\n",
    "import matplotlib.pyplot as plt\n",
    "import networkx as nx\n",
    "import osmnx as ox\n",
    "from descartes import PolygonPatch\n",
    "from shapely.geometry import LineString\n",
    "from shapely.geometry import Point\n",
    "from shapely.geometry import Polygon\n",
    "\n",
    "%matplotlib inline\n",
    "ox.__version__\n"
   ],
   "metadata": {
    "collapsed": false,
    "pycharm": {
     "name": "#%%\n"
    }
   }
  },
  {
   "cell_type": "code",
   "execution_count": 9,
   "outputs": [],
   "source": [
    "\n",
    "\n",
    "# configure the place, network type, trip times, and travel speed\n",
    "place = {\"city\": \"Berkeley\", \"state\": \"California\"}\n",
    "network_type = \"walk\"\n",
    "trip_times = [5, 10, 15, 20, 25]  # in minutes\n",
    "travel_speed = 4.5  # walking speed in km/hour\n"
   ],
   "metadata": {
    "collapsed": false,
    "pycharm": {
     "name": "#%%\n"
    }
   }
  },
  {
   "cell_type": "code",
   "execution_count": 10,
   "outputs": [
    {
     "name": "stderr",
     "output_type": "stream",
     "text": [
      "C:\\Users\\b8008458\\Anaconda3\\lib\\site-packages\\osmnx\\geocoder.py:110: FutureWarning: The frame.append method is deprecated and will be removed from pandas in a future version. Use pandas.concat instead.\n",
      "  gdf = gdf.append(_geocode_query_to_gdf(q, wr, by_osmid))\n"
     ]
    }
   ],
   "source": [
    "\n",
    "\n",
    "# download the street network\n",
    "G = ox.graph_from_place(place, network_type=network_type)\n"
   ],
   "metadata": {
    "collapsed": false,
    "pycharm": {
     "name": "#%%\n"
    }
   }
  },
  {
   "cell_type": "code",
   "execution_count": 11,
   "outputs": [
    {
     "ename": "AttributeError",
     "evalue": "module 'osmnx.distance' has no attribute 'nearest_nodes'",
     "output_type": "error",
     "traceback": [
      "\u001B[1;31m---------------------------------------------------------------------------\u001B[0m",
      "\u001B[1;31mAttributeError\u001B[0m                            Traceback (most recent call last)",
      "Input \u001B[1;32mIn [11]\u001B[0m, in \u001B[0;36m<cell line: 4>\u001B[1;34m()\u001B[0m\n\u001B[0;32m      2\u001B[0m gdf_nodes \u001B[38;5;241m=\u001B[39m ox\u001B[38;5;241m.\u001B[39mgraph_to_gdfs(G, edges\u001B[38;5;241m=\u001B[39m\u001B[38;5;28;01mFalse\u001B[39;00m)\n\u001B[0;32m      3\u001B[0m x, y \u001B[38;5;241m=\u001B[39m gdf_nodes[\u001B[38;5;124m\"\u001B[39m\u001B[38;5;124mgeometry\u001B[39m\u001B[38;5;124m\"\u001B[39m]\u001B[38;5;241m.\u001B[39munary_union\u001B[38;5;241m.\u001B[39mcentroid\u001B[38;5;241m.\u001B[39mxy\n\u001B[1;32m----> 4\u001B[0m center_node \u001B[38;5;241m=\u001B[39m \u001B[43mox\u001B[49m\u001B[38;5;241;43m.\u001B[39;49m\u001B[43mdistance\u001B[49m\u001B[38;5;241;43m.\u001B[39;49m\u001B[43mnearest_nodes\u001B[49m(G, x[\u001B[38;5;241m0\u001B[39m], y[\u001B[38;5;241m0\u001B[39m])\n\u001B[0;32m      5\u001B[0m G \u001B[38;5;241m=\u001B[39m ox\u001B[38;5;241m.\u001B[39mproject_graph(G)\n",
      "\u001B[1;31mAttributeError\u001B[0m: module 'osmnx.distance' has no attribute 'nearest_nodes'"
     ]
    }
   ],
   "source": [
    "\n",
    "\n",
    "# find the centermost node and then project the graph to UTM\n",
    "gdf_nodes = ox.graph_to_gdfs(G, edges=False)\n",
    "x, y = gdf_nodes[\"geometry\"].unary_union.centroid.xy\n",
    "center_node = ox.distance.nearest_nodes(G, x[0], y[0])\n",
    "G = ox.project_graph(G)\n",
    "\n"
   ],
   "metadata": {
    "collapsed": false,
    "pycharm": {
     "name": "#%%\n"
    }
   }
  },
  {
   "cell_type": "code",
   "execution_count": null,
   "outputs": [],
   "source": [
    "\n",
    "\n",
    "# add an edge attribute for time in minutes required to traverse each edge\n",
    "meters_per_minute = travel_speed * 1000 / 60  # km per hour to m per minute\n",
    "for _, _, _, data in G.edges(data=True, keys=True):\n",
    "    data[\"time\"] = data[\"length\"] / meters_per_minute\n",
    "\n"
   ],
   "metadata": {
    "collapsed": false,
    "pycharm": {
     "name": "#%%\n"
    }
   }
  },
  {
   "cell_type": "code",
   "execution_count": null,
   "outputs": [],
   "source": [
    "# get one color for each isochrone\n",
    "iso_colors = ox.plot.get_colors(n=len(trip_times), cmap=\"plasma\", start=0, return_hex=True)"
   ],
   "metadata": {
    "collapsed": false,
    "pycharm": {
     "name": "#%%\n"
    }
   }
  },
  {
   "cell_type": "code",
   "execution_count": null,
   "outputs": [],
   "source": [
    "\n",
    "\n",
    "# color the nodes according to isochrone then plot the street network\n",
    "node_colors = {}\n",
    "for trip_time, color in zip(sorted(trip_times, reverse=True), iso_colors):\n",
    "    subgraph = nx.ego_graph(G, center_node, radius=trip_time, distance=\"time\")\n",
    "    for node in subgraph.nodes():\n",
    "        node_colors[node] = color\n",
    "nc = [node_colors[node] if node in node_colors else \"none\" for node in G.nodes()]\n",
    "ns = [15 if node in node_colors else 0 for node in G.nodes()]\n",
    "fig, ax = ox.plot_graph(\n",
    "    G,\n",
    "    node_color=nc,\n",
    "    node_size=ns,\n",
    "    node_alpha=0.8,\n",
    "    edge_linewidth=0.2,\n",
    "    edge_color=\"#999999\",\n",
    ")\n",
    "\n"
   ],
   "metadata": {
    "collapsed": false,
    "pycharm": {
     "name": "#%%\n"
    }
   }
  },
  {
   "cell_type": "code",
   "execution_count": null,
   "outputs": [],
   "source": [
    "\n",
    "\n",
    "# make the isochrone polygons\n",
    "isochrone_polys = []\n",
    "for trip_time in sorted(trip_times, reverse=True):\n",
    "    subgraph = nx.ego_graph(G, center_node, radius=trip_time, distance=\"time\")\n",
    "    node_points = [Point((data[\"x\"], data[\"y\"])) for node, data in subgraph.nodes(data=True)]\n",
    "    bounding_poly = gpd.GeoSeries(node_points).unary_union.convex_hull\n",
    "    isochrone_polys.append(bounding_poly)\n",
    "\n"
   ],
   "metadata": {
    "collapsed": false,
    "pycharm": {
     "name": "#%%\n"
    }
   }
  },
  {
   "cell_type": "code",
   "execution_count": null,
   "outputs": [],
   "source": [
    "# plot the network then add isochrones as colored descartes polygon patches\n",
    "fig, ax = ox.plot_graph(\n",
    "    G, show=False, close=False, edge_color=\"#999999\", edge_alpha=0.2, node_size=0\n",
    ")\n",
    "for polygon, fc in zip(isochrone_polys, iso_colors):\n",
    "    patch = PolygonPatch(polygon, fc=fc, ec=\"none\", alpha=0.6, zorder=-1)\n",
    "    ax.add_patch(patch)\n",
    "plt.show()"
   ],
   "metadata": {
    "collapsed": false,
    "pycharm": {
     "name": "#%%\n"
    }
   }
  },
  {
   "cell_type": "code",
   "execution_count": null,
   "outputs": [],
   "source": [
    "def make_iso_polys(G, edge_buff=25, node_buff=50, infill=False):\n",
    "    isochrone_polys = []\n",
    "    for trip_time in sorted(trip_times, reverse=True):\n",
    "        subgraph = nx.ego_graph(G, center_node, radius=trip_time, distance=\"time\")\n",
    "\n",
    "        node_points = [Point((data[\"x\"], data[\"y\"])) for node, data in subgraph.nodes(data=True)]\n",
    "        nodes_gdf = gpd.GeoDataFrame({\"id\": list(subgraph.nodes)}, geometry=node_points)\n",
    "        nodes_gdf = nodes_gdf.set_index(\"id\")\n",
    "\n",
    "        edge_lines = []\n",
    "        for n_fr, n_to in subgraph.edges():\n",
    "            f = nodes_gdf.loc[n_fr].geometry\n",
    "            t = nodes_gdf.loc[n_to].geometry\n",
    "            edge_lookup = G.get_edge_data(n_fr, n_to)[0].get(\"geometry\", LineString([f, t]))\n",
    "            edge_lines.append(edge_lookup)\n",
    "\n",
    "        n = nodes_gdf.buffer(node_buff).geometry\n",
    "        e = gpd.GeoSeries(edge_lines).buffer(edge_buff).geometry\n",
    "        all_gs = list(n) + list(e)\n",
    "        new_iso = gpd.GeoSeries(all_gs).unary_union\n",
    "\n",
    "        # try to fill in surrounded areas so shapes will appear solid and\n",
    "        # blocks without white space inside them\n",
    "        if infill:\n",
    "            new_iso = Polygon(new_iso.exterior)\n",
    "        isochrone_polys.append(new_iso)\n",
    "    return isochrone_polys\n",
    "\n",
    "\n",
    "isochrone_polys = make_iso_polys(G, edge_buff=25, node_buff=0, infill=True)\n",
    "fig, ax = ox.plot_graph(\n",
    "    G, show=False, close=False, edge_color=\"#999999\", edge_alpha=0.2, node_size=0\n",
    ")\n",
    "for polygon, fc in zip(isochrone_polys, iso_colors):\n",
    "    patch = PolygonPatch(polygon, fc=fc, ec=\"none\", alpha=0.7, zorder=-1)\n",
    "    ax.add_patch(patch)\n",
    "plt.show()"
   ],
   "metadata": {
    "collapsed": false,
    "pycharm": {
     "name": "#%%\n"
    }
   }
  }
 ],
 "metadata": {
  "kernelspec": {
   "display_name": "Python 3",
   "language": "python",
   "name": "python3"
  },
  "language_info": {
   "codemirror_mode": {
    "name": "ipython",
    "version": 2
   },
   "file_extension": ".py",
   "mimetype": "text/x-python",
   "name": "python",
   "nbconvert_exporter": "python",
   "pygments_lexer": "ipython2",
   "version": "2.7.6"
  }
 },
 "nbformat": 4,
 "nbformat_minor": 0
}