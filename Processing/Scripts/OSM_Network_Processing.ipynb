{
 "cells": [
  {
   "cell_type": "code",
   "execution_count": null,
   "metadata": {},
   "outputs": [],
   "source": [
    "# libary imports\n",
    "import momepy\n",
    "import pandas as pd\n",
    "import geopandas as gpd\n",
    "import networkx as nx \n",
    "import osmnx as ox\n",
    "from matplotlib import pyplot as plt\n"
   ]
  },
  {
   "cell_type": "code",
   "execution_count": null,
   "metadata": {},
   "outputs": [],
   "source": [
    "place = \"Newcastle Upon Tyne, United Kingdom\""
   ]
  },
  {
   "cell_type": "code",
   "execution_count": null,
   "metadata": {},
   "outputs": [],
   "source": [
    "bike_graph = ox.graph_from_place(place, network_type=\"all\",clean_periphery=True)"
   ]
  },
  {
   "cell_type": "code",
   "execution_count": null,
   "metadata": {},
   "outputs": [],
   "source": [
    "ox.save_graph_geopackage(bike_graph, filepath=(r'C:\\Users\\b8008458\\Documents\\2021_2022\\Scratch Space\\bike_network.shp'))"
   ]
  },
  {
   "cell_type": "code",
   "execution_count": null,
   "metadata": {},
   "outputs": [],
   "source": [
    "edges = ox.graph_to_gdfs(ox.get_undirected(bike_graph), nodes=False, edges=True, node_geometry=False, fill_edge_geometry=True)\n",
    "edges.drop([\"ref\",\"name\",\"maxspeed\",\"lanes\",\"service\",\"bridge\",\"tunnel\",\"access\",\"junction\",\"width\",\"est_width\", \"osmid\"], axis=1, inplace=True)\n",
    "edges['highway'] = edges['highway'].str.replace(\"'\",\" \")\n"
   ]
  },
  {
   "cell_type": "code",
   "execution_count": null,
   "metadata": {},
   "outputs": [],
   "source": [
    "edges['cost'] = edges['length']"
   ]
  },
  {
   "cell_type": "code",
   "execution_count": null,
   "metadata": {},
   "outputs": [],
   "source": [
    "# weight edges\n",
    "edges.loc[edges['highway']== \"cycleway\", 'cost'] = edges['cost'] * 0.4\n",
    "edges.loc[edges['highway']== \"bridleway\", 'cost'] = edges['cost'] * 0.4\n",
    "edges.loc[edges['highway']== \"living_street\", 'cost'] = edges['cost'] * 0.6\n",
    "edges.loc[edges['highway']== \"path\", 'cost'] = edges['cost'] * 0.4\n",
    "edges.loc[edges['highway']== \"pedestrian\", 'cost'] = edges['cost'] * 0.4\n",
    "edges.loc[edges['highway']== \"[\\'bridleway','service\\']\", 'cost'] = edges['cost'] * 0.4\n",
    "edges.loc[edges['highway']== \"[\\'cycleway','path\\']\", 'cost'] = edges['cost'] * 0.4\n",
    "edges.loc[edges['highway']== \"[\\'cycleway','track\\']\", 'cost'] = edges['cost'] * 0.4\n",
    "edges.loc[edges['highway']== \"[\\'cycleway','unclassified\\']\", 'cost'] = edges['cost'] * 0.4\n",
    "edges.loc[edges['highway']== \"[\\'living_street','pedestrian\\']\", 'cost'] = edges['cost'] * 0.6\n",
    "edges.loc[edges['highway']== \"[\\'living_street','service\\']\", 'cost'] = edges['cost'] * 0.6\n",
    "edges.loc[edges['highway']== \"[\\'residential','bridleway\\']\", 'cost'] = edges['cost'] * 0.4\n",
    "edges.loc[edges['highway']== \"[\\'residential','cycleway\\']\", 'cost'] = edges['cost'] * 0.4\n",
    "edges.loc[edges['highway']== \"[\\'residential','path\\']\", 'cost'] = edges['cost'] * 0.4\n",
    "edges.loc[edges['highway']== \"[\\'residential','living_street\\']\", 'cost'] = edges['cost'] * 0.6\n",
    "edges.loc[edges['highway']== \"[\\'residential','path\\']\", 'cost'] = edges['cost'] * 0.4\n",
    "edges.loc[edges['highway']== \"[\\'residential','pedestrian\\']\", 'cost'] = edges['cost'] * 0.4\n",
    "edges.loc[edges['highway']== \"[\\'residential','service\\']\", 'cost'] = edges['cost'] * 0.4\n",
    "edges.loc[edges['highway']== \"[\\'residential','track','path\\']\", 'cost'] = edges['cost'] * 0.4\n",
    "edges.loc[edges['highway']== \"[\\'residential','track\\']\", 'cost'] = edges['cost'] * 0.4\n",
    "edges.loc[edges['highway']== \"[\\'residential','unclassified\\']\", 'cost'] = edges['cost'] * 0.4\n",
    "edges.loc[edges['highway']== \"[\\'service','cycleway\\']\", 'cost'] = edges['cost'] * 0.4\n",
    "edges.loc[edges['highway']== \"[\\'service','path\\']\", 'cost'] = edges['cost'] * 0.4\n",
    "edges.loc[edges['highway']== \"[\\'service','pedestrian\\']\", 'cost'] = edges['cost'] * 0.4\n",
    "edges.loc[edges['highway']== \"[\\'service','track\\']\", 'cost'] = edges['cost'] * 0.4\n",
    "edges.loc[edges['highway']== \"[\\'service','unclassified\\']\", 'cost'] = edges['cost'] * 0.4\n",
    "edges.loc[edges['highway']== \"[\\'service','cycleway\\']\", 'cost'] = edges['cost'] * 0.4\n",
    "\n",
    "# increase weights on unuseable roads\n",
    "edges.loc[edges['highway']== \"trunk\", 'cost'] = edges['cost'] * 10\n",
    "edges.loc[edges['highway']== \"trunk_link\", 'cost'] = edges['cost'] * 10\n",
    "edges.loc[edges['highway']== \"service\", 'cost'] = edges['cost'] * 10\n",
    "edges.loc[edges['highway']== \"primary\", 'cost'] = edges['cost'] * 10\n",
    "edges.loc[edges['highway']== \"secondary\", 'cost'] = edges['cost'] * 10\n",
    "edges.loc[edges['highway']== \"tertiary\", 'cost'] = edges['cost'] * 10\n",
    "edges.loc[edges['highway']== \"unclassified\", 'cost'] = edges['cost'] * 10\n",
    "edges.loc[edges['highway']== \"motorway\", 'cost'] = edges['cost'] * 100\n",
    "edges.loc[edges['highway']== \"motorway_link\", 'cost'] = edges['cost'] * 100"
   ]
  },
  {
   "cell_type": "code",
   "execution_count": null,
   "metadata": {},
   "outputs": [],
   "source": [
    "edges.to_file(r'C:\\Users\\b8008458\\Documents\\2021_2022\\Scratch Space\\York\\Bike Network\\bike_network_costs.shp')"
   ]
  }
 ],
 "metadata": {
  "kernelspec": {
   "display_name": "Python 3.9.13",
   "language": "python",
   "name": "python3"
  },
  "language_info": {
   "name": "python",
   "version": "3.9.13"
  },
  "orig_nbformat": 4,
  "vscode": {
   "interpreter": {
    "hash": "ecaf3126c0193b8fe7985334898c59c7f4f49be54a51b019409fc7072121fbc3"
   }
  }
 },
 "nbformat": 4,
 "nbformat_minor": 2
}
