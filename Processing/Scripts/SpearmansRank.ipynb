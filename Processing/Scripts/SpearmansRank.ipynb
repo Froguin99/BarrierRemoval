{
 "cells": [
  {
   "cell_type": "code",
   "execution_count": 9,
   "metadata": {},
   "outputs": [],
   "source": [
    "import pandas as pd\n",
    "import geopandas as gpd\n",
    "from scipy.stats import spearmanr"
   ]
  },
  {
   "cell_type": "code",
   "execution_count": 10,
   "metadata": {},
   "outputs": [],
   "source": [
    "unweighted = gpd.read_file(r\"C:\\Users\\b8008458\\OneDrive - Newcastle University\\2021 to 2022\\Dissertation\\Github\\BarrierRemoval\\Study Areas\\Pembrokeshire\\Barriers\\PembrokeBarriersMetrics.gpkg\")\n",
    "weighted = gpd.read_file(r\"C:\\Users\\b8008458\\OneDrive - Newcastle University\\2021 to 2022\\Dissertation\\Github\\BarrierRemoval\\Study Areas\\Pembrokeshire\\Barriers\\PembrokeBarriersMetricsWeighted.gpkg\")"
   ]
  },
  {
   "cell_type": "code",
   "execution_count": 11,
   "metadata": {},
   "outputs": [],
   "source": [
    "unweighted['unweighted_rank'] = unweighted['Overall_Score'].rank(ascending=False)\n",
    "weighted['weighted_rank'] = weighted['Overall_Score'].rank(ascending=False)"
   ]
  },
  {
   "cell_type": "code",
   "execution_count": 12,
   "metadata": {},
   "outputs": [],
   "source": [
    "join = unweighted.merge(weighted, on = 'globalid', how ='left', suffixes=('','_y'))\n",
    "join.drop(join.filter(regex='_y$').columns, axis=1, inplace=True)"
   ]
  },
  {
   "cell_type": "code",
   "execution_count": 13,
   "metadata": {},
   "outputs": [],
   "source": [
    "rho, p = spearmanr(join['unweighted_rank'], join['weighted_rank'])"
   ]
  },
  {
   "cell_type": "code",
   "execution_count": 14,
   "metadata": {},
   "outputs": [
    {
     "name": "stdout",
     "output_type": "stream",
     "text": [
      "0.1085822664770033\n"
     ]
    }
   ],
   "source": [
    "print(rho)"
   ]
  },
  {
   "cell_type": "code",
   "execution_count": 15,
   "metadata": {},
   "outputs": [
    {
     "name": "stdout",
     "output_type": "stream",
     "text": [
      "0.5223634131504384\n"
     ]
    }
   ],
   "source": [
    "print(p)"
   ]
  },
  {
   "cell_type": "code",
   "execution_count": 16,
   "metadata": {},
   "outputs": [
    {
     "data": {
      "text/plain": [
       "<AxesSubplot:xlabel='unweighted_rank', ylabel='weighted_rank'>"
      ]
     },
     "execution_count": 16,
     "metadata": {},
     "output_type": "execute_result"
    },
    {
     "data": {
      "image/png": "[encoded data removed]",
      "text/plain": [
       "<Figure size 432x288 with 1 Axes>"
      ]
     },
     "metadata": {
      "needs_background": "light"
     },
     "output_type": "display_data"
    }
   ],
   "source": [
    "join.plot.scatter(x = 'unweighted_rank', y = 'weighted_rank', s = 75)"
   ]
  }
 ],
 "metadata": {
  "kernelspec": {
   "display_name": "Python 3.9.13",
   "language": "python",
   "name": "python3"
  },
  "language_info": {
   "codemirror_mode": {
    "name": "ipython",
    "version": 3
   },
   "file_extension": ".py",
   "mimetype": "text/x-python",
   "name": "python",
   "nbconvert_exporter": "python",
   "pygments_lexer": "ipython3",
   "version": "3.9.13"
  },
  "orig_nbformat": 4,
  "vscode": {
   "interpreter": {
    "hash": "ecaf3126c0193b8fe7985334898c59c7f4f49be54a51b019409fc7072121fbc3"
   }
  }
 },
 "nbformat": 4,
 "nbformat_minor": 2
}
